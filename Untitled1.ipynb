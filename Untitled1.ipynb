{
 "cells": [
  {
   "cell_type": "code",
   "execution_count": null,
   "id": "c089f72a-851e-4f1f-8598-147a13bf8ddd",
   "metadata": {},
   "outputs": [],
   "source": []
  },
  {
   "cell_type": "code",
   "execution_count": 1,
   "id": "26498d55-7b58-4f9a-ae79-caa443379c96",
   "metadata": {},
   "outputs": [],
   "source": [
    "import pandas as pd\n",
    "import matplotlib.pyplot as plt\n",
    "import matplotlib as mpl"
   ]
  },
  {
   "cell_type": "code",
   "execution_count": 2,
   "id": "d11c0c97-1f85-4a55-96e5-e5fef509e08e",
   "metadata": {},
   "outputs": [
    {
     "data": {
      "text/html": [
       "<div>\n",
       "<style scoped>\n",
       "    .dataframe tbody tr th:only-of-type {\n",
       "        vertical-align: middle;\n",
       "    }\n",
       "\n",
       "    .dataframe tbody tr th {\n",
       "        vertical-align: top;\n",
       "    }\n",
       "\n",
       "    .dataframe thead th {\n",
       "        text-align: right;\n",
       "    }\n",
       "</style>\n",
       "<table border=\"1\" class=\"dataframe\">\n",
       "  <thead>\n",
       "    <tr style=\"text-align: right;\">\n",
       "      <th></th>\n",
       "      <th>iyear</th>\n",
       "      <th>imonth</th>\n",
       "      <th>country_txt</th>\n",
       "      <th>region_txt</th>\n",
       "      <th>provstate</th>\n",
       "      <th>city</th>\n",
       "      <th>latitude</th>\n",
       "      <th>longitude</th>\n",
       "      <th>summary</th>\n",
       "      <th>attacktype1_txt</th>\n",
       "      <th>weapsubtype1_txt</th>\n",
       "      <th>scite1</th>\n",
       "      <th>scite2</th>\n",
       "      <th>scite3</th>\n",
       "      <th>dates</th>\n",
       "      <th>info</th>\n",
       "      <th>date</th>\n",
       "      <th>day</th>\n",
       "    </tr>\n",
       "  </thead>\n",
       "  <tbody>\n",
       "    <tr>\n",
       "      <th>0</th>\n",
       "      <td>1970</td>\n",
       "      <td>1</td>\n",
       "      <td>United States</td>\n",
       "      <td>North America</td>\n",
       "      <td>Illinois</td>\n",
       "      <td>Cairo</td>\n",
       "      <td>37.005105</td>\n",
       "      <td>-89.176269</td>\n",
       "      <td>1/1/1970: Unknown African American assailants ...</td>\n",
       "      <td>Armed Assault</td>\n",
       "      <td>Unknown Gun Type</td>\n",
       "      <td>\"Police Chief Quits,\" Washington Post, January...</td>\n",
       "      <td>\"Cairo Police Chief Quits; Decries Local 'Mili...</td>\n",
       "      <td>Christopher Hewitt, \"Political Violence and Te...</td>\n",
       "      <td>1/1/1970</td>\n",
       "      <td>Unknown African American assailants fired sev...</td>\n",
       "      <td>1/1/1970</td>\n",
       "      <td>1</td>\n",
       "    </tr>\n",
       "    <tr>\n",
       "      <th>1</th>\n",
       "      <td>1970</td>\n",
       "      <td>1</td>\n",
       "      <td>United States</td>\n",
       "      <td>North America</td>\n",
       "      <td>Wisconsin</td>\n",
       "      <td>Madison</td>\n",
       "      <td>43.076592</td>\n",
       "      <td>-89.412488</td>\n",
       "      <td>1/2/1970: Karl Armstrong, a member of the New ...</td>\n",
       "      <td>Facility/Infrastructure Attack</td>\n",
       "      <td>Molotov Cocktail/Petrol Bomb</td>\n",
       "      <td>Tom Bates, \"Rads: The 1970 Bombing of the Army...</td>\n",
       "      <td>David Newman, Sandra Sutherland, and Jon Stewa...</td>\n",
       "      <td>The Wisconsin Cartographers' Guild, \"Wisconsin...</td>\n",
       "      <td>1/2/1970</td>\n",
       "      <td>Karl Armstrong, a member of the New Years Gan...</td>\n",
       "      <td>1/2/1970</td>\n",
       "      <td>2</td>\n",
       "    </tr>\n",
       "    <tr>\n",
       "      <th>2</th>\n",
       "      <td>1970</td>\n",
       "      <td>1</td>\n",
       "      <td>United States</td>\n",
       "      <td>North America</td>\n",
       "      <td>Wisconsin</td>\n",
       "      <td>Madison</td>\n",
       "      <td>43.072950</td>\n",
       "      <td>-89.386694</td>\n",
       "      <td>1/3/1970: Karl Armstrong, a member of the New ...</td>\n",
       "      <td>Facility/Infrastructure Attack</td>\n",
       "      <td>Gasoline or Alcohol</td>\n",
       "      <td>Committee on Government Operations United Stat...</td>\n",
       "      <td>Tom Bates, \"Rads: The 1970 Bombing of the Army...</td>\n",
       "      <td>David Newman, Sandra Sutherland, and Jon Stewa...</td>\n",
       "      <td>1/3/1970</td>\n",
       "      <td>Karl Armstrong, a member of the New Years Gan...</td>\n",
       "      <td>1/3/1970</td>\n",
       "      <td>3</td>\n",
       "    </tr>\n",
       "  </tbody>\n",
       "</table>\n",
       "</div>"
      ],
      "text/plain": [
       "   iyear  imonth    country_txt     region_txt  provstate     city   latitude  \\\n",
       "0   1970       1  United States  North America   Illinois    Cairo  37.005105   \n",
       "1   1970       1  United States  North America  Wisconsin  Madison  43.076592   \n",
       "2   1970       1  United States  North America  Wisconsin  Madison  43.072950   \n",
       "\n",
       "   longitude                                            summary  \\\n",
       "0 -89.176269  1/1/1970: Unknown African American assailants ...   \n",
       "1 -89.412488  1/2/1970: Karl Armstrong, a member of the New ...   \n",
       "2 -89.386694  1/3/1970: Karl Armstrong, a member of the New ...   \n",
       "\n",
       "                  attacktype1_txt              weapsubtype1_txt  \\\n",
       "0                   Armed Assault              Unknown Gun Type   \n",
       "1  Facility/Infrastructure Attack  Molotov Cocktail/Petrol Bomb   \n",
       "2  Facility/Infrastructure Attack           Gasoline or Alcohol   \n",
       "\n",
       "                                              scite1  \\\n",
       "0  \"Police Chief Quits,\" Washington Post, January...   \n",
       "1  Tom Bates, \"Rads: The 1970 Bombing of the Army...   \n",
       "2  Committee on Government Operations United Stat...   \n",
       "\n",
       "                                              scite2  \\\n",
       "0  \"Cairo Police Chief Quits; Decries Local 'Mili...   \n",
       "1  David Newman, Sandra Sutherland, and Jon Stewa...   \n",
       "2  Tom Bates, \"Rads: The 1970 Bombing of the Army...   \n",
       "\n",
       "                                              scite3     dates  \\\n",
       "0  Christopher Hewitt, \"Political Violence and Te...  1/1/1970   \n",
       "1  The Wisconsin Cartographers' Guild, \"Wisconsin...  1/2/1970   \n",
       "2  David Newman, Sandra Sutherland, and Jon Stewa...  1/3/1970   \n",
       "\n",
       "                                                info      date day  \n",
       "0   Unknown African American assailants fired sev...  1/1/1970   1  \n",
       "1   Karl Armstrong, a member of the New Years Gan...  1/2/1970   2  \n",
       "2   Karl Armstrong, a member of the New Years Gan...  1/3/1970   3  "
      ]
     },
     "execution_count": 2,
     "metadata": {},
     "output_type": "execute_result"
    }
   ],
   "source": [
    "df = pd.read_csv('Terrorism_data1.csv', low_memory=False)\n",
    "df.head(3)"
   ]
  },
  {
   "cell_type": "markdown",
   "id": "02c55632-70e6-454d-bd2e-db01441c4d3f",
   "metadata": {},
   "source": [
    "## What are the most common types of terrorist attacks?"
   ]
  },
  {
   "cell_type": "code",
   "execution_count": 7,
   "id": "91bbbdf8-e2be-4aa3-88ea-5e18d7cd6594",
   "metadata": {},
   "outputs": [
    {
     "data": {
      "text/plain": [
       "array(['Armed Assault', 'Facility/Infrastructure Attack',\n",
       "       'Bombing/Explosion', 'Assassination', 'Hijacking',\n",
       "       'Unarmed Assault', 'Hostage Taking (Kidnapping)',\n",
       "       'Hostage Taking (Barricade Incident)', 'Unknown'], dtype=object)"
      ]
     },
     "execution_count": 7,
     "metadata": {},
     "output_type": "execute_result"
    }
   ],
   "source": [
    "df['attacktype1_txt'].unique()\n"
   ]
  },
  {
   "cell_type": "code",
   "execution_count": 3,
   "id": "726ba078-b2ab-4b27-b073-bb550f826bf4",
   "metadata": {},
   "outputs": [
    {
     "data": {
      "text/plain": [
       "attacktype1_txt\n",
       "Bombing/Explosion                      23502\n",
       "Armed Assault                          10010\n",
       "Assassination                           2952\n",
       "Hostage Taking (Kidnapping)             2383\n",
       "Facility/Infrastructure Attack          1902\n",
       "Hostage Taking (Barricade Incident)      234\n",
       "Hijacking                                122\n",
       "Unarmed Assault                          114\n",
       "Unknown                                    2\n",
       "Name: count, dtype: int64"
      ]
     },
     "execution_count": 3,
     "metadata": {},
     "output_type": "execute_result"
    }
   ],
   "source": [
    "df['attacktype1_txt'].value_counts()\n"
   ]
  },
  {
   "cell_type": "code",
   "execution_count": 4,
   "id": "12705f70-abfc-4381-a205-fedf9348443f",
   "metadata": {},
   "outputs": [
    {
     "data": {
      "image/png": "[encoded data removed]",
      "text/plain": [
       "<Figure size 640x480 with 1 Axes>"
      ]
     },
     "metadata": {},
     "output_type": "display_data"
    }
   ],
   "source": [
    "from collections import Counter\n",
    "\n",
    "attacks = df['attacktype1_txt']\n",
    "\n",
    "attack_counts = Counter(attacks)\n",
    "\n",
    "types = list(attack_counts.keys())\n",
    "counts = list(attack_counts.values())\n",
    "\n",
    "types, counts = zip(*sorted(zip(types, counts), key=lambda x: x[1], reverse=False))\n",
    "plt.barh( types , counts )\n",
    "plt.title('Types of Attacks')\n",
    "\n",
    "for i, count in enumerate(counts):\n",
    "    plt.text(count, i, str(count), ha='left', va='center')\n",
    "plt.show()"
   ]
  },
  {
   "cell_type": "markdown",
   "id": "e83f974c-9d9d-402a-bd89-5fefe77602bd",
   "metadata": {},
   "source": [
    "### Explain your insights\n"
   ]
  },
  {
   "cell_type": "code",
   "execution_count": null,
   "id": "7410b205-2e19-4bf1-8650-4792ff01100a",
   "metadata": {},
   "outputs": [],
   "source": []
  },
  {
   "cell_type": "markdown",
   "id": "a2874464-1588-4722-aeec-332e4ad60604",
   "metadata": {},
   "source": [
    "## Which regions or countries experience the highest frequency of terrorist incidents?"
   ]
  },
  {
   "cell_type": "code",
   "execution_count": 13,
   "id": "7c0e6915-cd99-4fe1-8fd3-7425f7777535",
   "metadata": {},
   "outputs": [
    {
     "data": {
      "text/plain": [
       "country_txt\n",
       "Iraq             6890\n",
       "Pakistan         5165\n",
       "Afghanistan      4188\n",
       "India            3435\n",
       "Nigeria          2080\n",
       "Philippines      1875\n",
       "Thailand         1453\n",
       "Somalia          1293\n",
       "United States    1116\n",
       "Syria            1096\n",
       "Yemen            1046\n",
       "Egypt             838\n",
       "Turkey            791\n",
       "Russia            761\n",
       "Libya             622\n",
       "Name: count, dtype: int64"
      ]
     },
     "execution_count": 13,
     "metadata": {},
     "output_type": "execute_result"
    }
   ],
   "source": [
    "df['country_txt'].value_counts().head(15)"
   ]
  },
  {
   "cell_type": "code",
   "execution_count": null,
   "id": "6f427dd5-4acd-4096-9b58-5d6d11e40e04",
   "metadata": {},
   "outputs": [],
   "source": [
    " "
   ]
  },
  {
   "cell_type": "code",
   "execution_count": null,
   "id": "420ded4b-4c7e-4509-ae8f-2d2f140ef330",
   "metadata": {},
   "outputs": [],
   "source": [
    " "
   ]
  },
  {
   "cell_type": "markdown",
   "id": "84ae6912-157d-4114-8bff-d2ab93c15140",
   "metadata": {},
   "source": [
    "### Explain your insights"
   ]
  },
  {
   "cell_type": "markdown",
   "id": "e4f69ced-bae5-4eed-a0b1-09028604ab6d",
   "metadata": {},
   "source": [
    "## What are the primary motivations behind terrorist activities?"
   ]
  },
  {
   "cell_type": "code",
   "execution_count": null,
   "id": "7603bef4-0468-40fe-9ec8-629178bb62fd",
   "metadata": {},
   "outputs": [],
   "source": []
  },
  {
   "cell_type": "markdown",
   "id": "5bb5ab08-dacc-4399-86cb-e0b4fcbb2aee",
   "metadata": {},
   "source": [
    "## Are there any patterns or trends in the timing of terrorist attacks?"
   ]
  },
  {
   "cell_type": "code",
   "execution_count": 49,
   "id": "ace04738-1203-4a9c-a228-cb30bae7a874",
   "metadata": {},
   "outputs": [
    {
     "data": {
      "text/plain": [
       "imonth\n",
       "5     3857\n",
       "7     3736\n",
       "8     3683\n",
       "6     3642\n",
       "1     3563\n",
       "10    3519\n",
       "4     3390\n",
       "2     3335\n",
       "11    3263\n",
       "9     3153\n",
       "3     3120\n",
       "12    2960\n",
       "Name: count, dtype: int64"
      ]
     },
     "execution_count": 49,
     "metadata": {},
     "output_type": "execute_result"
    }
   ],
   "source": [
    "df['imonth'].value_counts()\n"
   ]
  },
  {
   "cell_type": "markdown",
   "id": "f6ddacd7-e10a-4291-b9c5-8f86d3d3f6ce",
   "metadata": {},
   "source": [
    "## What are the most frequently targeted sectors or types of infrastructure?"
   ]
  },
  {
   "cell_type": "code",
   "execution_count": null,
   "id": "a7830642-c91c-4b4c-945f-ddbd09465bad",
   "metadata": {},
   "outputs": [],
   "source": [
    "#look at scite1 to scite3"
   ]
  },
  {
   "cell_type": "markdown",
   "id": "51e7e5fa-8f49-4264-95c0-f4a6bc26a2b2",
   "metadata": {},
   "source": [
    "## How do casualty rates vary across different types of attacks and locations?"
   ]
  },
  {
   "cell_type": "code",
   "execution_count": null,
   "id": "e533f5d5-883e-46ec-86cc-e40ed9125699",
   "metadata": {},
   "outputs": [],
   "source": []
  },
  {
   "cell_type": "markdown",
   "id": "69f5cccb-ac96-4686-b030-d162e2fd0db1",
   "metadata": {},
   "source": [
    "## Are there any correlations between socioeconomic factors and terrorism?"
   ]
  },
  {
   "cell_type": "code",
   "execution_count": null,
   "id": "9852d201-da20-4a60-a6ba-6dd8be6f631b",
   "metadata": {},
   "outputs": [],
   "source": []
  },
  {
   "cell_type": "markdown",
   "id": "98cb292d-d39a-42ae-baa2-f57e9672040f",
   "metadata": {},
   "source": [
    "## What are the most commonly used tactics and weapons by terrorist groups?"
   ]
  },
  {
   "cell_type": "code",
   "execution_count": 48,
   "id": "fffe94cb-2aad-44ed-871d-0414fb6cc868",
   "metadata": {},
   "outputs": [
    {
     "data": {
      "text/plain": [
       "weapsubtype1_txt\n",
       "Unknown Gun Type                             9982\n",
       "Unknown Explosive Type                       6395\n",
       "Vehicle                                      5210\n",
       "Projectile (rockets, mortars, RPGs, etc.)    3101\n",
       "Other Explosive Type                         2650\n",
       "Suicide (carried bodily by human being)      2172\n",
       "Grenade                                      1725\n",
       "Automatic or Semi-Automatic Rifle            1550\n",
       "Remote Trigger                               1491\n",
       "Landmine                                     1318\n",
       "Arson/Fire                                   1220\n",
       "Knife or Other Sharp Object                   757\n",
       "Handgun                                       667\n",
       "Sticky Bomb                                   532\n",
       "Molotov Cocktail/Petrol Bomb                  411\n",
       "Time Fuse                                     376\n",
       "Gasoline or Alcohol                           319\n",
       "Dynamite/TNT                                  298\n",
       "Pipe Bomb                                     296\n",
       "Rifle/Shotgun (non-automatic)                 268\n",
       "Letter Bomb                                   163\n",
       "Pressure Trigger                              103\n",
       "Blunt Object                                   48\n",
       "Hands, Feet, Fists                             48\n",
       "Poisoning                                      32\n",
       "Explosive                                      32\n",
       "Other Gun Type                                 29\n",
       "Rope or Other Strangling Device                15\n",
       "Unknown Weapon Type                            13\n",
       "Name: count, dtype: int64"
      ]
     },
     "execution_count": 48,
     "metadata": {},
     "output_type": "execute_result"
    }
   ],
   "source": [
    "df['weapsubtype1_txt'].value_counts()"
   ]
  },
  {
   "cell_type": "markdown",
   "id": "5621d971-6296-49ed-b1f5-39365c846d6b",
   "metadata": {},
   "source": [
    "## How do terrorist organizations evolve over time in terms of structure and tactics?"
   ]
  },
  {
   "cell_type": "code",
   "execution_count": null,
   "id": "b5051da9-a3f9-430c-8e18-22e4a0561662",
   "metadata": {},
   "outputs": [],
   "source": []
  },
  {
   "cell_type": "markdown",
   "id": "92458327-d609-4d5e-9bcc-f36c797a6b2b",
   "metadata": {},
   "source": [
    "## Are there any geographical or ideological clusters of terrorist activity?"
   ]
  },
  {
   "cell_type": "code",
   "execution_count": null,
   "id": "993db0bd-722e-4470-9733-fb1235f8923b",
   "metadata": {},
   "outputs": [],
   "source": []
  }
 ],
 "metadata": {
  "kernelspec": {
   "display_name": "Python 3 (ipykernel)",
   "language": "python",
   "name": "python3"
  },
  "language_info": {
   "codemirror_mode": {
    "name": "ipython",
    "version": 3
   },
   "file_extension": ".py",
   "mimetype": "text/x-python",
   "name": "python",
   "nbconvert_exporter": "python",
   "pygments_lexer": "ipython3",
   "version": "3.11.5"
  }
 },
 "nbformat": 4,
 "nbformat_minor": 5
}
