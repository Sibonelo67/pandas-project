{
 "cells": [
  {
   "cell_type": "code",
   "execution_count": null,
   "id": "c089f72a-851e-4f1f-8598-147a13bf8ddd",
   "metadata": {},
   "outputs": [],
   "source": []
  },
  {
   "cell_type": "code",
   "execution_count": 1,
   "id": "26498d55-7b58-4f9a-ae79-caa443379c96",
   "metadata": {},
   "outputs": [],
   "source": [
    "import pandas as pd\n",
    "import matplotlib.pyplot as plt\n",
    "import matplotlib as mpl"
   ]
  },
  {
   "cell_type": "code",
   "execution_count": 4,
   "id": "d11c0c97-1f85-4a55-96e5-e5fef509e08e",
   "metadata": {},
   "outputs": [
    {
     "data": {
      "text/html": [
       "<div>\n",
       "<style scoped>\n",
       "    .dataframe tbody tr th:only-of-type {\n",
       "        vertical-align: middle;\n",
       "    }\n",
       "\n",
       "    .dataframe tbody tr th {\n",
       "        vertical-align: top;\n",
       "    }\n",
       "\n",
       "    .dataframe thead th {\n",
       "        text-align: right;\n",
       "    }\n",
       "</style>\n",
       "<table border=\"1\" class=\"dataframe\">\n",
       "  <thead>\n",
       "    <tr style=\"text-align: right;\">\n",
       "      <th></th>\n",
       "      <th>iyear</th>\n",
       "      <th>imonth</th>\n",
       "      <th>country_txt</th>\n",
       "      <th>region_txt</th>\n",
       "      <th>provstate</th>\n",
       "      <th>city</th>\n",
       "      <th>latitude</th>\n",
       "      <th>longitude</th>\n",
       "      <th>summary</th>\n",
       "      <th>attacktype1_txt</th>\n",
       "      <th>weapsubtype1_txt</th>\n",
       "      <th>scite1</th>\n",
       "      <th>scite2</th>\n",
       "      <th>scite3</th>\n",
       "      <th>dates</th>\n",
       "      <th>info</th>\n",
       "      <th>date</th>\n",
       "      <th>day</th>\n",
       "    </tr>\n",
       "  </thead>\n",
       "  <tbody>\n",
       "    <tr>\n",
       "      <th>0</th>\n",
       "      <td>1970</td>\n",
       "      <td>1</td>\n",
       "      <td>United States</td>\n",
       "      <td>North America</td>\n",
       "      <td>Illinois</td>\n",
       "      <td>Cairo</td>\n",
       "      <td>37.005105</td>\n",
       "      <td>-89.176269</td>\n",
       "      <td>1/1/1970: Unknown African American assailants ...</td>\n",
       "      <td>Armed Assault</td>\n",
       "      <td>Unknown Gun Type</td>\n",
       "      <td>\"Police Chief Quits,\" Washington Post, January...</td>\n",
       "      <td>\"Cairo Police Chief Quits; Decries Local 'Mili...</td>\n",
       "      <td>Christopher Hewitt, \"Political Violence and Te...</td>\n",
       "      <td>1/1/1970</td>\n",
       "      <td>Unknown African American assailants fired sev...</td>\n",
       "      <td>1/1/1970</td>\n",
       "      <td>1</td>\n",
       "    </tr>\n",
       "    <tr>\n",
       "      <th>1</th>\n",
       "      <td>1970</td>\n",
       "      <td>1</td>\n",
       "      <td>United States</td>\n",
       "      <td>North America</td>\n",
       "      <td>Wisconsin</td>\n",
       "      <td>Madison</td>\n",
       "      <td>43.076592</td>\n",
       "      <td>-89.412488</td>\n",
       "      <td>1/2/1970: Karl Armstrong, a member of the New ...</td>\n",
       "      <td>Facility/Infrastructure Attack</td>\n",
       "      <td>Molotov Cocktail/Petrol Bomb</td>\n",
       "      <td>Tom Bates, \"Rads: The 1970 Bombing of the Army...</td>\n",
       "      <td>David Newman, Sandra Sutherland, and Jon Stewa...</td>\n",
       "      <td>The Wisconsin Cartographers' Guild, \"Wisconsin...</td>\n",
       "      <td>1/2/1970</td>\n",
       "      <td>Karl Armstrong, a member of the New Years Gan...</td>\n",
       "      <td>1/2/1970</td>\n",
       "      <td>2</td>\n",
       "    </tr>\n",
       "    <tr>\n",
       "      <th>2</th>\n",
       "      <td>1970</td>\n",
       "      <td>1</td>\n",
       "      <td>United States</td>\n",
       "      <td>North America</td>\n",
       "      <td>Wisconsin</td>\n",
       "      <td>Madison</td>\n",
       "      <td>43.072950</td>\n",
       "      <td>-89.386694</td>\n",
       "      <td>1/3/1970: Karl Armstrong, a member of the New ...</td>\n",
       "      <td>Facility/Infrastructure Attack</td>\n",
       "      <td>Gasoline or Alcohol</td>\n",
       "      <td>Committee on Government Operations United Stat...</td>\n",
       "      <td>Tom Bates, \"Rads: The 1970 Bombing of the Army...</td>\n",
       "      <td>David Newman, Sandra Sutherland, and Jon Stewa...</td>\n",
       "      <td>1/3/1970</td>\n",
       "      <td>Karl Armstrong, a member of the New Years Gan...</td>\n",
       "      <td>1/3/1970</td>\n",
       "      <td>3</td>\n",
       "    </tr>\n",
       "    <tr>\n",
       "      <th>3</th>\n",
       "      <td>1970</td>\n",
       "      <td>1</td>\n",
       "      <td>United States</td>\n",
       "      <td>North America</td>\n",
       "      <td>Puerto Rico</td>\n",
       "      <td>Rio Piedras</td>\n",
       "      <td>18.386932</td>\n",
       "      <td>-66.061127</td>\n",
       "      <td>1/9/1970:  The Armed Commandos of Liberation c...</td>\n",
       "      <td>Facility/Infrastructure Attack</td>\n",
       "      <td>Arson/Fire</td>\n",
       "      <td>Committee on the Judiciary  United States Sena...</td>\n",
       "      <td>\"No Evidence Of Arson Found In Barkers Fire,\" ...</td>\n",
       "      <td>\"Toward People's War for Independence and Soci...</td>\n",
       "      <td>1/9/1970</td>\n",
       "      <td>The Armed Commandos of Liberation claimed cr...</td>\n",
       "      <td>1/9/1970</td>\n",
       "      <td>9</td>\n",
       "    </tr>\n",
       "    <tr>\n",
       "      <th>4</th>\n",
       "      <td>1970</td>\n",
       "      <td>1</td>\n",
       "      <td>United States</td>\n",
       "      <td>North America</td>\n",
       "      <td>New York</td>\n",
       "      <td>New York City</td>\n",
       "      <td>40.697132</td>\n",
       "      <td>-73.931351</td>\n",
       "      <td>1/12/1970: Unknown perpetrators threw a pipe b...</td>\n",
       "      <td>Bombing/Explosion</td>\n",
       "      <td>Pipe Bomb</td>\n",
       "      <td>\"Blast Damages Flatbush School,\" New York Time...</td>\n",
       "      <td>Linda Greenhouse, \"Madison School Puzzled By B...</td>\n",
       "      <td>Committee on Government Operations United Stat...</td>\n",
       "      <td>1/12/1970</td>\n",
       "      <td>Unknown perpetrators threw a pipe bomb into t...</td>\n",
       "      <td>1/12/1970</td>\n",
       "      <td>12</td>\n",
       "    </tr>\n",
       "  </tbody>\n",
       "</table>\n",
       "</div>"
      ],
      "text/plain": [
       "   iyear  imonth    country_txt     region_txt    provstate           city  \\\n",
       "0   1970       1  United States  North America     Illinois          Cairo   \n",
       "1   1970       1  United States  North America    Wisconsin        Madison   \n",
       "2   1970       1  United States  North America    Wisconsin        Madison   \n",
       "3   1970       1  United States  North America  Puerto Rico    Rio Piedras   \n",
       "4   1970       1  United States  North America     New York  New York City   \n",
       "\n",
       "    latitude  longitude                                            summary  \\\n",
       "0  37.005105 -89.176269  1/1/1970: Unknown African American assailants ...   \n",
       "1  43.076592 -89.412488  1/2/1970: Karl Armstrong, a member of the New ...   \n",
       "2  43.072950 -89.386694  1/3/1970: Karl Armstrong, a member of the New ...   \n",
       "3  18.386932 -66.061127  1/9/1970:  The Armed Commandos of Liberation c...   \n",
       "4  40.697132 -73.931351  1/12/1970: Unknown perpetrators threw a pipe b...   \n",
       "\n",
       "                  attacktype1_txt              weapsubtype1_txt  \\\n",
       "0                   Armed Assault              Unknown Gun Type   \n",
       "1  Facility/Infrastructure Attack  Molotov Cocktail/Petrol Bomb   \n",
       "2  Facility/Infrastructure Attack           Gasoline or Alcohol   \n",
       "3  Facility/Infrastructure Attack                    Arson/Fire   \n",
       "4               Bombing/Explosion                     Pipe Bomb   \n",
       "\n",
       "                                              scite1  \\\n",
       "0  \"Police Chief Quits,\" Washington Post, January...   \n",
       "1  Tom Bates, \"Rads: The 1970 Bombing of the Army...   \n",
       "2  Committee on Government Operations United Stat...   \n",
       "3  Committee on the Judiciary  United States Sena...   \n",
       "4  \"Blast Damages Flatbush School,\" New York Time...   \n",
       "\n",
       "                                              scite2  \\\n",
       "0  \"Cairo Police Chief Quits; Decries Local 'Mili...   \n",
       "1  David Newman, Sandra Sutherland, and Jon Stewa...   \n",
       "2  Tom Bates, \"Rads: The 1970 Bombing of the Army...   \n",
       "3  \"No Evidence Of Arson Found In Barkers Fire,\" ...   \n",
       "4  Linda Greenhouse, \"Madison School Puzzled By B...   \n",
       "\n",
       "                                              scite3      dates  \\\n",
       "0  Christopher Hewitt, \"Political Violence and Te...   1/1/1970   \n",
       "1  The Wisconsin Cartographers' Guild, \"Wisconsin...   1/2/1970   \n",
       "2  David Newman, Sandra Sutherland, and Jon Stewa...   1/3/1970   \n",
       "3  \"Toward People's War for Independence and Soci...   1/9/1970   \n",
       "4  Committee on Government Operations United Stat...  1/12/1970   \n",
       "\n",
       "                                                info       date day  \n",
       "0   Unknown African American assailants fired sev...   1/1/1970   1  \n",
       "1   Karl Armstrong, a member of the New Years Gan...   1/2/1970   2  \n",
       "2   Karl Armstrong, a member of the New Years Gan...   1/3/1970   3  \n",
       "3    The Armed Commandos of Liberation claimed cr...   1/9/1970   9  \n",
       "4   Unknown perpetrators threw a pipe bomb into t...  1/12/1970  12  "
      ]
     },
     "execution_count": 4,
     "metadata": {},
     "output_type": "execute_result"
    }
   ],
   "source": [
    "df = pd.read_csv('Terrorism_data1.csv', low_memory=False)\n",
    "df.head()"
   ]
  },
  {
   "cell_type": "markdown",
   "id": "02c55632-70e6-454d-bd2e-db01441c4d3f",
   "metadata": {},
   "source": [
    "## What are the most common types of terrorist attacks?"
   ]
  },
  {
   "cell_type": "code",
   "execution_count": null,
   "id": "91bbbdf8-e2be-4aa3-88ea-5e18d7cd6594",
   "metadata": {},
   "outputs": [],
   "source": []
  },
  {
   "cell_type": "markdown",
   "id": "e83f974c-9d9d-402a-bd89-5fefe77602bd",
   "metadata": {},
   "source": [
    "### Explain your insights\n"
   ]
  },
  {
   "cell_type": "markdown",
   "id": "a2874464-1588-4722-aeec-332e4ad60604",
   "metadata": {},
   "source": [
    "## Which regions or countries experience the highest frequency of terrorist incidents?"
   ]
  },
  {
   "cell_type": "code",
   "execution_count": null,
   "id": "7c0e6915-cd99-4fe1-8fd3-7425f7777535",
   "metadata": {},
   "outputs": [],
   "source": []
  },
  {
   "cell_type": "markdown",
   "id": "84ae6912-157d-4114-8bff-d2ab93c15140",
   "metadata": {},
   "source": [
    "### Explain your insights"
   ]
  },
  {
   "cell_type": "markdown",
   "id": "e4f69ced-bae5-4eed-a0b1-09028604ab6d",
   "metadata": {},
   "source": [
    "## What are the primary motivations behind terrorist activities?"
   ]
  },
  {
   "cell_type": "code",
   "execution_count": null,
   "id": "7603bef4-0468-40fe-9ec8-629178bb62fd",
   "metadata": {},
   "outputs": [],
   "source": []
  },
  {
   "cell_type": "markdown",
   "id": "5bb5ab08-dacc-4399-86cb-e0b4fcbb2aee",
   "metadata": {},
   "source": [
    "## Are there any patterns or trends in the timing of terrorist attacks?"
   ]
  },
  {
   "cell_type": "code",
   "execution_count": null,
   "id": "ace04738-1203-4a9c-a228-cb30bae7a874",
   "metadata": {},
   "outputs": [],
   "source": []
  },
  {
   "cell_type": "markdown",
   "id": "f6ddacd7-e10a-4291-b9c5-8f86d3d3f6ce",
   "metadata": {},
   "source": [
    "## What are the most frequently targeted sectors or types of infrastructure?"
   ]
  },
  {
   "cell_type": "code",
   "execution_count": null,
   "id": "a7830642-c91c-4b4c-945f-ddbd09465bad",
   "metadata": {},
   "outputs": [],
   "source": []
  },
  {
   "cell_type": "markdown",
   "id": "51e7e5fa-8f49-4264-95c0-f4a6bc26a2b2",
   "metadata": {},
   "source": [
    "## How do casualty rates vary across different types of attacks and locations?"
   ]
  },
  {
   "cell_type": "code",
   "execution_count": null,
   "id": "e533f5d5-883e-46ec-86cc-e40ed9125699",
   "metadata": {},
   "outputs": [],
   "source": []
  },
  {
   "cell_type": "markdown",
   "id": "69f5cccb-ac96-4686-b030-d162e2fd0db1",
   "metadata": {},
   "source": [
    "## Are there any correlations between socioeconomic factors and terrorism?"
   ]
  },
  {
   "cell_type": "code",
   "execution_count": null,
   "id": "9852d201-da20-4a60-a6ba-6dd8be6f631b",
   "metadata": {},
   "outputs": [],
   "source": []
  },
  {
   "cell_type": "markdown",
   "id": "98cb292d-d39a-42ae-baa2-f57e9672040f",
   "metadata": {},
   "source": [
    "## What are the most commonly used tactics and weapons by terrorist groups?"
   ]
  },
  {
   "cell_type": "code",
   "execution_count": null,
   "id": "fffe94cb-2aad-44ed-871d-0414fb6cc868",
   "metadata": {},
   "outputs": [],
   "source": []
  },
  {
   "cell_type": "markdown",
   "id": "5621d971-6296-49ed-b1f5-39365c846d6b",
   "metadata": {},
   "source": [
    "## How do terrorist organizations evolve over time in terms of structure and tactics?"
   ]
  },
  {
   "cell_type": "code",
   "execution_count": null,
   "id": "b5051da9-a3f9-430c-8e18-22e4a0561662",
   "metadata": {},
   "outputs": [],
   "source": []
  },
  {
   "cell_type": "markdown",
   "id": "92458327-d609-4d5e-9bcc-f36c797a6b2b",
   "metadata": {},
   "source": [
    "## Are there any geographical or ideological clusters of terrorist activity?"
   ]
  },
  {
   "cell_type": "code",
   "execution_count": null,
   "id": "993db0bd-722e-4470-9733-fb1235f8923b",
   "metadata": {},
   "outputs": [],
   "source": []
  }
 ],
 "metadata": {
  "kernelspec": {
   "display_name": "Python 3 (ipykernel)",
   "language": "python",
   "name": "python3"
  },
  "language_info": {
   "codemirror_mode": {
    "name": "ipython",
    "version": 3
   },
   "file_extension": ".py",
   "mimetype": "text/x-python",
   "name": "python",
   "nbconvert_exporter": "python",
   "pygments_lexer": "ipython3",
   "version": "3.11.5"
  }
 },
 "nbformat": 4,
 "nbformat_minor": 5
}
